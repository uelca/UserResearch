{
 "cells": [
  {
   "cell_type": "code",
   "execution_count": 1,
   "metadata": {},
   "outputs": [],
   "source": [
    "import pandas as pd\n",
    "import numpy as np\n",
    "import seaborn as sns\n",
    "import matplotlib.pyplot as plt\n",
    "import csv"
   ]
  },
  {
   "cell_type": "code",
   "execution_count": 2,
   "metadata": {},
   "outputs": [],
   "source": [
    "click_data = pd.read_csv(\"../data/click_data.csv\")\n",
    "emotional_events = pd.read_csv(\"../data/emotional_events.csv\")\n",
    "messages_data = pd.read_csv(\"../data/messages_data.csv\")\n",
    "user_information = pd.read_csv(\"../data/user_information.csv\")\n",
    "new_features = pd.read_csv(\"../feature_Engineering/new_features.csv\")"
   ]
  },
  {
   "cell_type": "markdown",
   "metadata": {},
   "source": [
    "### From message_data we are able to extract the number of interactions with the assistand and how long an user takes at a task"
   ]
  },
  {
   "cell_type": "code",
   "execution_count": 7,
   "metadata": {},
   "outputs": [],
   "source": [
    "messages_data.sort_values(by=[\"userId\", \"task\", \"timestamp_unix\"], inplace=True)\n",
    "messages_data.reset_index(drop=True, inplace=True)\n",
    "\n",
    "messages_data[\"number_interactions_with_assistant\"] = 0\n",
    "messages_data[\"spent_time_with_assistant (seconds)\"] = 0\n",
    "\n",
    "for (userId, task), group in messages_data.groupby(['userId', 'task']):\n",
    "    number_interactions = group.shape[0]\n",
    "    \n",
    "    first_interaction_time = group['timestamp_unix'].min()\n",
    "    last_interaction_time = group['timestamp_unix'].max()\n",
    "    \n",
    "    total_time_spent = last_interaction_time - first_interaction_time\n",
    "    \n",
    "    messages_data.loc[group.index, 'number_interactions_with_assistant'] = number_interactions\n",
    "    messages_data.loc[group.index, 'spent_time_with_assistant (seconds)'] = total_time_spent\n",
    "\n",
    "    with open('../feature_Engineering/new_features.csv', 'a') as file:\n",
    "        file.write(f\"{userId},{task},{number_interactions},{total_time_spent}\\n\")\n"
   ]
  },
  {
   "cell_type": "markdown",
   "metadata": {},
   "source": [
    "### Exploring click_data, able to extract interactions at a task"
   ]
  },
  {
   "cell_type": "code",
   "execution_count": 8,
   "metadata": {},
   "outputs": [],
   "source": [
    "click_data.sort_values(by=[\"userId\", \"task\"], inplace=True)\n",
    "click_data.reset_index(drop=True, inplace=True)\n",
    "\n",
    "click_data[\"number_interactions_with_tables\"] = 0\n",
    "click_data[\"spent_time_with_tables (seconds)\"] = 0\n",
    "\n",
    "for (userId, task), group in click_data.groupby(['userId', 'task']):\n",
    "    number_interactions = group.shape[0]\n",
    "    \n",
    "    first_interaction_time = group['timestamp_unix'].min()\n",
    "    last_interaction_time = group['timestamp_unix'].max()\n",
    "    \n",
    "    total_time_spent = last_interaction_time - first_interaction_time\n",
    "    \n",
    "    click_data.loc[group.index, 'number_interactions_with_tables'] = number_interactions\n",
    "    click_data.loc[group.index, 'spent_time_with_tables (seconds)'] = total_time_spent\n",
    "    \n",
    "    rows = []\n",
    "    csv_filename = '../feature_Engineering/new_features.csv'\n",
    "    # Read existing data from the new_features file\n",
    "    with open(csv_filename, 'r') as file:\n",
    "        reader = csv.DictReader(file)\n",
    "        rows = list(reader)\n",
    "\n",
    "    # Check if the row exists and update it\n",
    "    row_exists = False\n",
    "    for row in rows:\n",
    "        user_feature = int(row['userId'])\n",
    "        task_feature = int(row['task'])\n",
    "        userID = int(userId)\n",
    "        task = int(task)\n",
    "        if user_feature == userId and task_feature == task:\n",
    "            row['number_interactions_with_tables'] = number_interactions\n",
    "            row['spent_time_with_tables (seconds)'] = total_time_spent\n",
    "            row_exists = True\n",
    "            break\n",
    "\n",
    "    # If the row doesn't exist, append a new row\n",
    "    if not row_exists:\n",
    "        new_row = {\n",
    "            'userId': userId,\n",
    "            'task': task,\n",
    "            'number_interactions_with_assistant': 0,\n",
    "            'spent_time_with_assistant (seconds)': 0,\n",
    "            'number_interactions_with_tables': number_interactions,\n",
    "            'spent_time_with_tables (seconds)': total_time_spent\n",
    "        }\n",
    "        rows.append(new_row)\n",
    "\n",
    "    # Write the updated data back to the CSV file after each iteration\n",
    "    with open(csv_filename, 'w', newline='') as file:\n",
    "        fieldnames = ['userId', 'task', 'number_interactions_with_assistant', 'spent_time_with_assistant (seconds)',\n",
    "                      'number_interactions_with_tables', 'spent_time_with_tables (seconds)']\n",
    "        writer = csv.DictWriter(file, fieldnames=fieldnames)\n",
    "        writer.writeheader()\n",
    "        writer.writerows(rows)              \n",
    "    \n",
    "    "
   ]
  }
 ],
 "metadata": {
  "kernelspec": {
   "display_name": ".venv",
   "language": "python",
   "name": "python3"
  },
  "language_info": {
   "codemirror_mode": {
    "name": "ipython",
    "version": 3
   },
   "file_extension": ".py",
   "mimetype": "text/x-python",
   "name": "python",
   "nbconvert_exporter": "python",
   "pygments_lexer": "ipython3",
   "version": "3.12.0"
  }
 },
 "nbformat": 4,
 "nbformat_minor": 2
}

{
 "cells": [
  {
   "cell_type": "code",
   "execution_count": 33,
   "metadata": {},
   "outputs": [],
   "source": [
    "import pandas as pd\n",
    "import numpy as np\n",
    "import seaborn as sns\n",
    "import matplotlib.pyplot as plt\n",
    "import csv"
   ]
  },
  {
   "cell_type": "code",
   "execution_count": 34,
   "metadata": {},
   "outputs": [],
   "source": [
    "click_data = pd.read_csv(\"../data/click_data.csv\")\n",
    "emotional_events = pd.read_csv(\"../data/emotional_events.csv\")\n",
    "messages_data = pd.read_csv(\"../data/messages_data.csv\")\n",
    "user_information = pd.read_csv(\"../data/user_information.csv\")\n",
    "new_features = pd.read_csv(\"../feature_Engineering/new_features.csv\")"
   ]
  },
  {
   "cell_type": "code",
   "execution_count": 35,
   "metadata": {},
   "outputs": [],
   "source": [
    "#This columns are required in the new_feature File\n",
    "\n",
    "#userId,task,number_interactions_with_assistant,spent_time_with_assistant (seconds),number_interactions_with_tables,spent_time_with_tables (seconds),confidence,arousal,valence,understanding,task_time (seconds)"
   ]
  },
  {
   "cell_type": "markdown",
   "metadata": {},
   "source": [
    "### From message_data we are able to extract the number of interactions with the assistand and how long an user takes at a task"
   ]
  },
  {
   "cell_type": "code",
   "execution_count": 36,
   "metadata": {},
   "outputs": [],
   "source": [
    "messages_data.sort_values(by=[\"userId\", \"task\", \"timestamp_unix\"], inplace=True)\n",
    "messages_data.reset_index(drop=True, inplace=True)\n",
    "\n",
    "messages_data[\"number_interactions_with_assistant\"] = 0\n",
    "messages_data[\"spent_time_with_assistant (seconds)\"] = 0\n",
    "\n",
    "for (userId, task), group in messages_data.groupby(['userId', 'task']):\n",
    "    number_interactions = group.shape[0]\n",
    "    \n",
    "    first_interaction_time = group['timestamp_unix'].min()\n",
    "    last_interaction_time = group['timestamp_unix'].max()\n",
    "    \n",
    "    total_time_spent = last_interaction_time - first_interaction_time\n",
    "    \n",
    "    messages_data.loc[group.index, 'number_interactions_with_assistant'] = number_interactions\n",
    "    messages_data.loc[group.index, 'spent_time_with_assistant (seconds)'] = total_time_spent\n",
    "\n",
    "    with open('../feature_Engineering/new_features.csv', 'a') as file:\n",
    "        file.write(f\"{userId},{task},{number_interactions},{total_time_spent}\\n\")\n"
   ]
  },
  {
   "cell_type": "markdown",
   "metadata": {},
   "source": [
    "### Exploring click_data, able to extract interactions at a task"
   ]
  },
  {
   "cell_type": "code",
   "execution_count": 37,
   "metadata": {},
   "outputs": [],
   "source": [
    "click_data.sort_values(by=[\"userId\", \"task\"], inplace=True)\n",
    "click_data.reset_index(drop=True, inplace=True)\n",
    "\n",
    "click_data[\"number_interactions_with_tables\"] = 0\n",
    "click_data[\"spent_time_with_tables (seconds)\"] = 0\n",
    "\n",
    "for (userId, task), group in click_data.groupby(['userId', 'task']):\n",
    "    number_interactions = group.shape[0]\n",
    "    \n",
    "    first_interaction_time = group['timestamp_unix'].min()\n",
    "    last_interaction_time = group['timestamp_unix'].max()\n",
    "    \n",
    "    total_time_spent = last_interaction_time - first_interaction_time\n",
    "    \n",
    "    click_data.loc[group.index, 'number_interactions_with_tables'] = number_interactions\n",
    "    click_data.loc[group.index, 'spent_time_with_tables (seconds)'] = total_time_spent\n",
    "    \n",
    "    rows = []\n",
    "    csv_filename = '../feature_Engineering/new_features.csv'\n",
    "    # Read existing data from the new_features file\n",
    "    with open(csv_filename, 'r') as file:\n",
    "        reader = csv.DictReader(file)\n",
    "        rows = list(reader)\n",
    "\n",
    "    # Check if the row exists and update it\n",
    "    row_exists = False\n",
    "    for row in rows:\n",
    "        user_feature = int(row['userId'])\n",
    "        task_feature = int(row['task'])\n",
    "        userID = int(userId)\n",
    "        task = int(task)\n",
    "        if user_feature == userId and task_feature == task:\n",
    "            row['number_interactions_with_tables'] = number_interactions\n",
    "            row['spent_time_with_tables (seconds)'] = total_time_spent\n",
    "            row_exists = True\n",
    "            break\n",
    "\n",
    "    # If the row doesn't exist, append a new row\n",
    "    if not row_exists:\n",
    "        new_row = {\n",
    "            'userId': userId,\n",
    "            'task': task,\n",
    "            'number_interactions_with_assistant': 0,\n",
    "            'spent_time_with_assistant (seconds)': 0,\n",
    "            'number_interactions_with_tables': number_interactions,\n",
    "            'spent_time_with_tables (seconds)': total_time_spent\n",
    "        }\n",
    "        rows.append(new_row)\n",
    "\n",
    "    # Write the updated data back to the CSV file after each iteration\n",
    "    with open(csv_filename, 'w', newline='') as file:\n",
    "        fieldnames = ['userId', 'task', 'number_interactions_with_assistant', 'spent_time_with_assistant (seconds)',\n",
    "                        'number_interactions_with_tables', 'spent_time_with_tables (seconds)', 'confidence', 'arousal', 'valence', 'understanding', 'task_time (seconds)']\n",
    "        writer = csv.DictWriter(file, fieldnames=fieldnames)\n",
    "        writer.writeheader()\n",
    "        writer.writerows(rows)"
   ]
  },
  {
   "cell_type": "markdown",
   "metadata": {},
   "source": [
    "### Exploring emotional_events, able to extract time per task, confidence, understanding, arousal and valence"
   ]
  },
  {
   "cell_type": "code",
   "execution_count": 38,
   "metadata": {},
   "outputs": [
    {
     "name": "stderr",
     "output_type": "stream",
     "text": [
      "/var/folders/8v/x1s0jcnx06v5nb267srbbnnm0000gn/T/ipykernel_8891/2591562298.py:3: FutureWarning: A value is trying to be set on a copy of a DataFrame or Series through chained assignment using an inplace method.\n",
      "The behavior will change in pandas 3.0. This inplace method will never work because the intermediate object on which we are setting values always behaves as a copy.\n",
      "\n",
      "For example, when doing 'df[col].method(value, inplace=True)', try using 'df.method({col: value}, inplace=True)' or df[col] = df[col].method(value) instead, to perform the operation inplace on the original object.\n",
      "\n",
      "\n",
      "  filtered_df_information_finding['arousal'].replace('AO07', '7', inplace=True)\n",
      "/var/folders/8v/x1s0jcnx06v5nb267srbbnnm0000gn/T/ipykernel_8891/2591562298.py:3: SettingWithCopyWarning: \n",
      "A value is trying to be set on a copy of a slice from a DataFrame\n",
      "\n",
      "See the caveats in the documentation: https://pandas.pydata.org/pandas-docs/stable/user_guide/indexing.html#returning-a-view-versus-a-copy\n",
      "  filtered_df_information_finding['arousal'].replace('AO07', '7', inplace=True)\n",
      "/var/folders/8v/x1s0jcnx06v5nb267srbbnnm0000gn/T/ipykernel_8891/2591562298.py:4: FutureWarning: A value is trying to be set on a copy of a DataFrame or Series through chained assignment using an inplace method.\n",
      "The behavior will change in pandas 3.0. This inplace method will never work because the intermediate object on which we are setting values always behaves as a copy.\n",
      "\n",
      "For example, when doing 'df[col].method(value, inplace=True)', try using 'df.method({col: value}, inplace=True)' or df[col] = df[col].method(value) instead, to perform the operation inplace on the original object.\n",
      "\n",
      "\n",
      "  filtered_df_information_finding['valence'].replace('AO07', '7', inplace=True)\n",
      "/var/folders/8v/x1s0jcnx06v5nb267srbbnnm0000gn/T/ipykernel_8891/2591562298.py:4: SettingWithCopyWarning: \n",
      "A value is trying to be set on a copy of a slice from a DataFrame\n",
      "\n",
      "See the caveats in the documentation: https://pandas.pydata.org/pandas-docs/stable/user_guide/indexing.html#returning-a-view-versus-a-copy\n",
      "  filtered_df_information_finding['valence'].replace('AO07', '7', inplace=True)\n"
     ]
    }
   ],
   "source": [
    "# Filter the DataFrame to keep only the rows where 'task_type' is 'Information_finding'\n",
    "filtered_df_information_finding = emotional_events[emotional_events['task_type'] == 'information_finding']\n",
    "filtered_df_information_finding['arousal'].replace('AO07', '7', inplace=True)\n",
    "filtered_df_information_finding['valence'].replace('AO07', '7', inplace=True)\n",
    "\n",
    "for index, row in filtered_df_information_finding.iterrows():\n",
    "    if row[['confidence', 'arousal', 'understanding', 'valence']].notnull().all():\n",
    "        userId = row['userId']\n",
    "        task = row['task']\n",
    "        confidence = int(row['confidence'])\n",
    "        arousal = int(row['arousal'])\n",
    "        understanding = int(row['understanding'])\n",
    "        valence = int(row['valence'])\n",
    "        task_time = int(row['task_time'] )\n",
    "        \n",
    "        rows = []\n",
    "        csv_filename = '../feature_Engineering/new_features.csv'\n",
    "        # Read existing data from the new_features file\n",
    "        with open(csv_filename, 'r') as file:\n",
    "            reader = csv.DictReader(file)\n",
    "            rows = list(reader)\n",
    "\n",
    "        # Check if the row exists and update it\n",
    "        row_exists = False\n",
    "        for row in rows:\n",
    "            user_feature = int(row['userId'])\n",
    "            task_feature = int(row['task'])\n",
    "            if user_feature == userId and task_feature == task:\n",
    "                row['confidence'] = confidence\n",
    "                row['arousal'] = arousal\n",
    "                row['valence'] = valence\n",
    "                row['understanding'] = understanding\n",
    "                row['task_time (seconds)'] = task_time\n",
    "                row_exists = True\n",
    "                break\n",
    "\n",
    "        # If the row doesn't exist, append a new row\n",
    "        if not row_exists:\n",
    "            new_row = {\n",
    "                'userId': userId,\n",
    "                'task': task,\n",
    "                'number_interactions_with_assistant': 0,\n",
    "                'spent_time_with_assistant (seconds)': 0,\n",
    "                'number_interactions_with_tables': 0,\n",
    "                'spent_time_with_tables (seconds)': 0,\n",
    "                'confidence': confidence,\n",
    "                'arousal': arousal,\n",
    "                'valence': valence,\n",
    "                'understanding': understanding,\n",
    "                'task_time (seconds)': task_time\n",
    "            }\n",
    "            rows.append(new_row)\n",
    "\n",
    "        # Write the updated data back to the CSV file after each iteration\n",
    "        with open(csv_filename, 'w', newline='') as file:\n",
    "            fieldnames = ['userId', 'task', 'number_interactions_with_assistant', 'spent_time_with_assistant (seconds)',\n",
    "                        'number_interactions_with_tables', 'spent_time_with_tables (seconds)', 'confidence', 'arousal', 'valence', 'understanding', 'task_time (seconds)']\n",
    "            writer = csv.DictWriter(file, fieldnames=fieldnames)\n",
    "            writer.writeheader()\n",
    "            writer.writerows(rows)\n"
   ]
  }
 ],
 "metadata": {
  "kernelspec": {
   "display_name": ".venv",
   "language": "python",
   "name": "python3"
  },
  "language_info": {
   "codemirror_mode": {
    "name": "ipython",
    "version": 3
   },
   "file_extension": ".py",
   "mimetype": "text/x-python",
   "name": "python",
   "nbconvert_exporter": "python",
   "pygments_lexer": "ipython3",
   "version": "3.12.0"
  }
 },
 "nbformat": 4,
 "nbformat_minor": 2
}

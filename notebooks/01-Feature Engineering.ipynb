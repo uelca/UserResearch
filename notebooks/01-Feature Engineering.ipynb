{
 "cells": [
  {
   "cell_type": "code",
   "execution_count": 69,
   "metadata": {},
   "outputs": [],
   "source": [
    "import pandas as pd\n",
    "import numpy as np\n",
    "import seaborn as sns\n",
    "import matplotlib.pyplot as plt\n",
    "import csv"
   ]
  },
  {
   "cell_type": "code",
   "execution_count": 70,
   "metadata": {},
   "outputs": [],
   "source": [
    "click_data = pd.read_csv(\"../data/click_data.csv\")\n",
    "emotional_events = pd.read_csv(\"../data/emotional_events.csv\")\n",
    "messages_data = pd.read_csv(\"../data/messages_data.csv\")\n",
    "user_information = pd.read_csv(\"../data/user_information.csv\")\n",
    "new_features = pd.read_csv(\"../feature_Engineering/new_features.csv\")"
   ]
  },
  {
   "cell_type": "markdown",
   "metadata": {},
   "source": [
    "## Setting Up New Features\n",
    "\n",
    "### Required Columns in the `new_feature` File\n",
    "\n",
    "Please ensure that the file contains the following columns:\n",
    "\n",
    "- `userId`\n",
    "- `task`\n",
    "- `number_interactions_with_assistant`\n",
    "- `spent_time_with_assistant (seconds)`\n",
    "- `number_interactions_with_tables`\n",
    "- `spent_time_with_tables (seconds)`\n",
    "- `confidence`\n",
    "- `arousal`\n",
    "- `valence`\n",
    "- `understanding`\n",
    "- `task_time (seconds)`\n",
    "\n",
    "For copy and paste:   \n",
    "userId,task,number_interactions_with_assistant,spent_time_with_assistant (seconds),number_interactions_with_tables,spent_time_with_tables (seconds),confidence,arousal,valence,understanding,task_time (seconds)\n",
    "\n",
    "### Note\n",
    "\n",
    "**After inserting the data, please press Enter once!**"
   ]
  },
  {
   "cell_type": "markdown",
   "metadata": {},
   "source": [
    "### From message_data we are able to extract the number of interactions with the assistand and how long an user takes at a task"
   ]
  },
  {
   "cell_type": "code",
   "execution_count": 71,
   "metadata": {},
   "outputs": [],
   "source": [
    "messages_data.sort_values(by=[\"userId\", \"task\", \"timestamp_unix\"], inplace=True)\n",
    "messages_data.reset_index(drop=True, inplace=True)\n",
    "\n",
    "messages_data[\"number_interactions_with_assistant\"] = 0\n",
    "messages_data[\"spent_time_with_assistant (seconds)\"] = 0\n",
    "\n",
    "for (userId, task), group in messages_data.groupby(['userId', 'task']):\n",
    "    number_interactions = group.shape[0]\n",
    "    \n",
    "    first_interaction_time = group['timestamp_unix'].min()\n",
    "    last_interaction_time = group['timestamp_unix'].max()\n",
    "    \n",
    "    total_time_spent = last_interaction_time - first_interaction_time\n",
    "    \n",
    "    messages_data.loc[group.index, 'number_interactions_with_assistant'] = int(number_interactions)\n",
    "    messages_data.loc[group.index, 'spent_time_with_assistant (seconds)'] = int(total_time_spent)\n",
    "\n",
    "    with open('../feature_Engineering/new_features.csv', 'a') as file:\n",
    "        file.write(f\"{userId},{task},{int(number_interactions)},{int(total_time_spent)}\\n\")\n"
   ]
  },
  {
   "cell_type": "markdown",
   "metadata": {},
   "source": [
    "### Exploring click_data, able to extract interactions at a task"
   ]
  },
  {
   "cell_type": "code",
   "execution_count": 72,
   "metadata": {},
   "outputs": [],
   "source": [
    "click_data.sort_values(by=[\"userId\", \"task\"], inplace=True)\n",
    "click_data.reset_index(drop=True, inplace=True)\n",
    "\n",
    "click_data[\"number_interactions_with_tables\"] = 0\n",
    "click_data[\"spent_time_with_tables (seconds)\"] = 0\n",
    "\n",
    "for (userId, task), group in click_data.groupby(['userId', 'task']):\n",
    "    number_interactions = group.shape[0]\n",
    "    \n",
    "    first_interaction_time = group['timestamp_unix'].min()\n",
    "    last_interaction_time = group['timestamp_unix'].max()\n",
    "    \n",
    "    total_time_spent = last_interaction_time - first_interaction_time\n",
    "    \n",
    "    click_data.loc[group.index, 'number_interactions_with_tables'] = number_interactions\n",
    "    click_data.loc[group.index, 'spent_time_with_tables (seconds)'] = total_time_spent\n",
    "    \n",
    "    rows = []\n",
    "    csv_filename = '../feature_Engineering/new_features.csv'\n",
    "    # Read existing data from the new_features file\n",
    "    with open(csv_filename, 'r') as file:\n",
    "        reader = csv.DictReader(file)\n",
    "        rows = list(reader)\n",
    "\n",
    "    # Check if the row exists and update it\n",
    "    row_exists = False\n",
    "    for row_user_information in rows:\n",
    "        user_feature = int(row_user_information['userId'])\n",
    "        task_feature = int(row_user_information['task'])\n",
    "        userID = int(userId)\n",
    "        task = int(task)\n",
    "        if user_feature == userId and task_feature == task:\n",
    "            row_user_information['number_interactions_with_tables'] = int(number_interactions)\n",
    "            row_user_information['spent_time_with_tables (seconds)'] = int(total_time_spent)\n",
    "            row_exists = True\n",
    "            break\n",
    "\n",
    "    # If the row doesn't exist, append a new row\n",
    "    if not row_exists:\n",
    "        new_row = {\n",
    "            'userId': int(userId),\n",
    "            'task': int(task),\n",
    "            'number_interactions_with_assistant': int(0),\n",
    "            'spent_time_with_assistant (seconds)': int(0),\n",
    "            'number_interactions_with_tables': int(number_interactions),\n",
    "            'spent_time_with_tables (seconds)': int(total_time_spent)\n",
    "        }\n",
    "        rows.append(new_row)\n",
    "\n",
    "    # Write the updated data back to the CSV file after each iteration\n",
    "    with open(csv_filename, 'w', newline='') as file:\n",
    "        fieldnames = ['userId', 'task', 'number_interactions_with_assistant', 'spent_time_with_assistant (seconds)',\n",
    "                        'number_interactions_with_tables', 'spent_time_with_tables (seconds)', 'arousal', 'understanding', 'confidence', 'valence', 'task_time (seconds)']\n",
    "        writer = csv.DictWriter(file, fieldnames=fieldnames)\n",
    "        writer.writeheader()\n",
    "        writer.writerows(rows)"
   ]
  },
  {
   "cell_type": "markdown",
   "metadata": {},
   "source": [
    "### Exploring emotional_events, able to extract time per task, confidence, understanding, arousal and valence"
   ]
  },
  {
   "cell_type": "code",
   "execution_count": 73,
   "metadata": {},
   "outputs": [
    {
     "name": "stderr",
     "output_type": "stream",
     "text": [
      "/var/folders/8v/x1s0jcnx06v5nb267srbbnnm0000gn/T/ipykernel_10666/3936474625.py:3: FutureWarning: A value is trying to be set on a copy of a DataFrame or Series through chained assignment using an inplace method.\n",
      "The behavior will change in pandas 3.0. This inplace method will never work because the intermediate object on which we are setting values always behaves as a copy.\n",
      "\n",
      "For example, when doing 'df[col].method(value, inplace=True)', try using 'df.method({col: value}, inplace=True)' or df[col] = df[col].method(value) instead, to perform the operation inplace on the original object.\n",
      "\n",
      "\n",
      "  filtered_df_information_finding['arousal'].replace('AO07', '7', inplace=True)\n",
      "/var/folders/8v/x1s0jcnx06v5nb267srbbnnm0000gn/T/ipykernel_10666/3936474625.py:3: SettingWithCopyWarning: \n",
      "A value is trying to be set on a copy of a slice from a DataFrame\n",
      "\n",
      "See the caveats in the documentation: https://pandas.pydata.org/pandas-docs/stable/user_guide/indexing.html#returning-a-view-versus-a-copy\n",
      "  filtered_df_information_finding['arousal'].replace('AO07', '7', inplace=True)\n",
      "/var/folders/8v/x1s0jcnx06v5nb267srbbnnm0000gn/T/ipykernel_10666/3936474625.py:4: FutureWarning: A value is trying to be set on a copy of a DataFrame or Series through chained assignment using an inplace method.\n",
      "The behavior will change in pandas 3.0. This inplace method will never work because the intermediate object on which we are setting values always behaves as a copy.\n",
      "\n",
      "For example, when doing 'df[col].method(value, inplace=True)', try using 'df.method({col: value}, inplace=True)' or df[col] = df[col].method(value) instead, to perform the operation inplace on the original object.\n",
      "\n",
      "\n",
      "  filtered_df_information_finding['valence'].replace('AO07', '7', inplace=True)\n",
      "/var/folders/8v/x1s0jcnx06v5nb267srbbnnm0000gn/T/ipykernel_10666/3936474625.py:4: SettingWithCopyWarning: \n",
      "A value is trying to be set on a copy of a slice from a DataFrame\n",
      "\n",
      "See the caveats in the documentation: https://pandas.pydata.org/pandas-docs/stable/user_guide/indexing.html#returning-a-view-versus-a-copy\n",
      "  filtered_df_information_finding['valence'].replace('AO07', '7', inplace=True)\n"
     ]
    }
   ],
   "source": [
    "# Filter the DataFrame to keep only the rows where 'task_type' is 'Information_finding'\n",
    "filtered_df_information_finding = emotional_events[emotional_events['task_type'] == 'information_finding']\n",
    "filtered_df_information_finding['arousal'].replace('AO07', '7', inplace=True)\n",
    "filtered_df_information_finding['valence'].replace('AO07', '7', inplace=True)\n",
    "\n",
    "for index, row_user_information in filtered_df_information_finding.iterrows():\n",
    "    if row_user_information[['confidence', 'arousal', 'understanding', 'valence']].notnull().all():\n",
    "        userId = row_user_information['userId']\n",
    "        task = row_user_information['task']\n",
    "        confidence = int(row_user_information['confidence'])\n",
    "        arousal = int(row_user_information['arousal'])\n",
    "        understanding = int(row_user_information['understanding'])\n",
    "        valence = int(row_user_information['valence'])\n",
    "        task_time = int(row_user_information['task_time'] )\n",
    "        \n",
    "        rows = []\n",
    "        csv_filename = '../feature_Engineering/new_features.csv'\n",
    "        # Read existing data from the new_features file\n",
    "        with open(csv_filename, 'r') as file:\n",
    "            reader = csv.DictReader(file)\n",
    "            rows = list(reader)\n",
    "\n",
    "        # Check if the row exists and update it\n",
    "        row_exists = False\n",
    "        for row_user_information in rows:\n",
    "            user_feature = int(row_user_information['userId'])\n",
    "            task_feature = int(row_user_information['task'])\n",
    "            if user_feature == userId and task_feature == task:\n",
    "                row_user_information['confidence'] = int(confidence)\n",
    "                row_user_information['arousal'] = int(arousal)\n",
    "                row_user_information['valence'] = int(valence)\n",
    "                row_user_information['understanding'] = int(understanding)\n",
    "                row_user_information['task_time (seconds)'] = int(task_time)\n",
    "                row_exists = True\n",
    "                break\n",
    "\n",
    "        # If the row doesn't exist, append a new row\n",
    "        if not row_exists:\n",
    "            new_row = {\n",
    "                'userId': userId,\n",
    "                'task': task,\n",
    "                'number_interactions_with_assistant': int(0),\n",
    "                'spent_time_with_assistant (seconds)': int(0),\n",
    "                'number_interactions_with_tables': int(0),\n",
    "                'spent_time_with_tables (seconds)': int(0),\n",
    "                'confidence': int(confidence),\n",
    "                'arousal': int(arousal),\n",
    "                'valence': int(valence),\n",
    "                'understanding': int(understanding),\n",
    "                'task_time (seconds)': int(task_time)\n",
    "            }\n",
    "            rows.append(new_row)\n",
    "\n",
    "        # Write the updated data back to the CSV file after each iteration\n",
    "        with open(csv_filename, 'w', newline='') as file:\n",
    "            fieldnames = ['userId', 'task', 'number_interactions_with_assistant', 'spent_time_with_assistant (seconds)',\n",
    "                        'number_interactions_with_tables', 'spent_time_with_tables (seconds)', 'confidence', 'arousal', 'valence', 'understanding', 'task_time (seconds)']\n",
    "            writer = csv.DictWriter(file, fieldnames=fieldnames)\n",
    "            writer.writeheader()\n",
    "            writer.writerows(rows)\n"
   ]
  },
  {
   "cell_type": "code",
   "execution_count": 74,
   "metadata": {},
   "outputs": [],
   "source": [
    "new_features = pd.read_csv(\"../feature_Engineering/new_features.csv\")\n",
    "# Umwandlung aller Spalten in integer\n",
    "new_features = new_features.apply(pd.to_numeric, errors='coerce')\n",
    "new_features.to_csv(\"../feature_Engineering/new_features.csv\", index=False)"
   ]
  },
  {
   "cell_type": "markdown",
   "metadata": {},
   "source": [
    "### Extracting Information from user_information"
   ]
  },
  {
   "cell_type": "code",
   "execution_count": 75,
   "metadata": {},
   "outputs": [],
   "source": [
    "new_features = pd.read_csv(\"../feature_Engineering/new_features.csv\")\n",
    "\n",
    "# Merge DataFrames based on 'id' and 'userId'\n",
    "merged_df = new_features.merge(\n",
    "    user_information[['id', 'age', 'education', 'assistant_usage', 'experience_analysis_tools']],\n",
    "    left_on='userId',\n",
    "    right_on='id',\n",
    "    how='left'\n",
    ")\n",
    "\n",
    "merged_df.drop(columns=['id'], inplace=True)\n",
    "\n",
    "merged_df.to_csv(\"../feature_Engineering/new_features.csv\", index=False)"
   ]
  },
  {
   "cell_type": "markdown",
   "metadata": {},
   "source": [
    "### Imputing missing Values with -1"
   ]
  },
  {
   "cell_type": "code",
   "execution_count": 76,
   "metadata": {},
   "outputs": [],
   "source": [
    "new_features = pd.read_csv(\"../feature_Engineering/new_features.csv\")\n",
    "\n",
    "# Identify columns with the data type float64\n",
    "float_cols = new_features.select_dtypes(include=['float64']).columns\n",
    "\n",
    "# Replace NaN with 0 in these columns\n",
    "new_features[float_cols] = new_features[float_cols].fillna(-1)\n",
    "\n",
    "# Convert these columns to int64\n",
    "new_features[float_cols] = new_features[float_cols].astype('int64')\n",
    "\n",
    "# Save the DataFrame to a CSV file\n",
    "new_features.to_csv(\"../feature_Engineering/new_features.csv\", index=False)"
   ]
  },
  {
   "cell_type": "markdown",
   "metadata": {},
   "source": [
    "### Creating Target Variable"
   ]
  },
  {
   "cell_type": "code",
   "execution_count": 77,
   "metadata": {},
   "outputs": [],
   "source": [
    "# Create the 'stress_level' column based on the conditions\n",
    "# ADJUST IF NEEDED\n",
    "new_features['stress_level'] = ((new_features['valence'] < 4) & (new_features['arousal'] > 3)).astype(int)\n",
    "\n",
    "# Save the result (overwrite the existing file)\n",
    "new_features.to_csv(\"../feature_Engineering/new_features.csv\", index=False)"
   ]
  },
  {
   "cell_type": "code",
   "execution_count": 78,
   "metadata": {},
   "outputs": [
    {
     "data": {
      "image/png": "[encoded data removed]",
      "text/plain": [
       "<Figure size 800x600 with 1 Axes>"
      ]
     },
     "metadata": {},
     "output_type": "display_data"
    }
   ],
   "source": [
    "plt.figure(figsize=(8, 6))\n",
    "new_features['stress_level'].value_counts().plot(kind='bar', color=['skyblue', 'salmon'])\n",
    "plt.title('Distribution of Stress Levels')\n",
    "plt.xlabel('Stress Level')\n",
    "plt.ylabel('Frequency')\n",
    "plt.xticks(ticks=[0, 1], labels=['No Stress', 'Stress'], rotation=0)\n",
    "plt.grid(axis='y', linestyle='--', alpha=0.7)\n",
    "plt.show()"
   ]
  },
  {
   "cell_type": "markdown",
   "metadata": {},
   "source": [
    "### Dont forget to remove Arousal and Valence columns from DF"
   ]
  }
 ],
 "metadata": {
  "kernelspec": {
   "display_name": ".venv",
   "language": "python",
   "name": "python3"
  },
  "language_info": {
   "codemirror_mode": {
    "name": "ipython",
    "version": 3
   },
   "file_extension": ".py",
   "mimetype": "text/x-python",
   "name": "python",
   "nbconvert_exporter": "python",
   "pygments_lexer": "ipython3",
   "version": "3.12.0"
  }
 },
 "nbformat": 4,
 "nbformat_minor": 2
}
